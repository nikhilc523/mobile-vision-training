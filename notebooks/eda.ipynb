{
 "cells": [
  {
   "cell_type": "markdown",
   "metadata": {},
   "source": [
    "# Phase 1.5 - Feature Engineering EDA\n",
    "\n",
    "This notebook explores the engineered features from pose keypoints for fall detection.\n",
    "\n",
    "**Features:**\n",
    "1. Torso angle (α) - angle between neck-hip line and vertical\n",
    "2. Hip height (h) - 1 - average(hip_y)\n",
    "3. Vertical velocity (v) - Δ(hip height) / Δt\n",
    "4. Motion magnitude (m) - mean L2 displacement of keypoints\n",
    "5. Shoulder symmetry (s) - |left_shoulder_y - right_shoulder_y|\n",
    "6. Knee angle (θ) - maximum knee angle"
   ]
  },
  {
   "cell_type": "code",
   "execution_count": null,
   "metadata": {},
   "outputs": [],
   "source": [
    "import numpy as np\n",
    "import matplotlib.pyplot as plt\n",
    "from pathlib import Path\n",
    "\n",
    "# Set style\n",
    "plt.style.use('seaborn-v0_8-darkgrid')\n",
    "plt.rcParams['figure.figsize'] = (12, 6)\n",
    "plt.rcParams['font.size'] = 10"
   ]
  },
  {
   "cell_type": "markdown",
   "metadata": {},
   "source": [
    "## Load Data"
   ]
  },
  {
   "cell_type": "code",
   "execution_count": null,
   "metadata": {},
   "outputs": [],
   "source": [
    "# Load windowed data\n",
    "data = np.load('../data/processed/all_windows.npz', allow_pickle=True)\n",
    "\n",
    "X = data['X']  # (N, 60, 6)\n",
    "y = data['y']  # (N,)\n",
    "video_names = data['video_names']\n",
    "datasets = data['datasets']\n",
    "\n",
    "print(f\"Total windows: {len(X)}\")\n",
    "print(f\"Window shape: {X.shape}\")\n",
    "print(f\"Fall windows: {np.sum(y==1)} ({100*np.mean(y):.1f}%)\")\n",
    "print(f\"Non-fall windows: {np.sum(y==0)} ({100*np.mean(y==0):.1f}%)\")\n",
    "\n",
    "# Feature names\n",
    "feature_names = ['Torso Angle', 'Hip Height', 'Vertical Velocity', \n",
    "                 'Motion Magnitude', 'Shoulder Symmetry', 'Knee Angle']"
   ]
  },
  {
   "cell_type": "markdown",
   "metadata": {},
   "source": [
    "## Class Balance"
   ]
  },
  {
   "cell_type": "code",
   "execution_count": null,
   "metadata": {},
   "outputs": [],
   "source": [
    "# Class balance bar chart\n",
    "fig, ax = plt.subplots(figsize=(8, 6))\n",
    "\n",
    "counts = [np.sum(y==0), np.sum(y==1)]\n",
    "labels = ['Non-Fall', 'Fall']\n",
    "colors = ['#2ecc71', '#e74c3c']\n",
    "\n",
    "bars = ax.bar(labels, counts, color=colors, alpha=0.7, edgecolor='black')\n",
    "\n",
    "# Add count labels on bars\n",
    "for bar, count in zip(bars, counts):\n",
    "    height = bar.get_height()\n",
    "    ax.text(bar.get_x() + bar.get_width()/2., height,\n",
    "            f'{count}\\n({100*count/len(y):.1f}%)',\n",
    "            ha='center', va='bottom', fontsize=12, fontweight='bold')\n",
    "\n",
    "ax.set_ylabel('Number of Windows', fontsize=12)\n",
    "ax.set_title('Class Balance - 60-Frame Windows', fontsize=14, fontweight='bold')\n",
    "ax.grid(axis='y', alpha=0.3)\n",
    "\n",
    "plt.tight_layout()\n",
    "plt.savefig('../docs/wiki_assets/phase1_features/class_balance.png', dpi=150, bbox_inches='tight')\n",
    "plt.show()\n",
    "\n",
    "print(\"✓ Saved: class_balance.png\")"
   ]
  },
  {
   "cell_type": "markdown",
   "metadata": {},
   "source": [
    "## Feature Distributions by Class"
   ]
  },
  {
   "cell_type": "code",
   "execution_count": null,
   "metadata": {},
   "outputs": [],
   "source": [
    "# Compute mean feature values per window\n",
    "X_mean = np.nanmean(X, axis=1)  # (N, 6)\n",
    "\n",
    "# Separate by class\n",
    "X_fall = X_mean[y == 1]\n",
    "X_non_fall = X_mean[y == 0]\n",
    "\n",
    "# Plot distributions\n",
    "fig, axes = plt.subplots(2, 3, figsize=(15, 10))\n",
    "axes = axes.flatten()\n",
    "\n",
    "for i, (ax, feature_name) in enumerate(zip(axes, feature_names)):\n",
    "    # Plot histograms\n",
    "    ax.hist(X_non_fall[:, i], bins=20, alpha=0.6, label='Non-Fall', \n",
    "            color='#2ecc71', edgecolor='black')\n",
    "    ax.hist(X_fall[:, i], bins=20, alpha=0.6, label='Fall', \n",
    "            color='#e74c3c', edgecolor='black')\n",
    "    \n",
    "    ax.set_xlabel(feature_name, fontsize=11)\n",
    "    ax.set_ylabel('Frequency', fontsize=11)\n",
    "    ax.set_title(f'{feature_name} Distribution', fontsize=12, fontweight='bold')\n",
    "    ax.legend()\n",
    "    ax.grid(alpha=0.3)\n",
    "\n",
    "plt.tight_layout()\n",
    "plt.savefig('../docs/wiki_assets/phase1_features/feature_distributions.png', dpi=150, bbox_inches='tight')\n",
    "plt.show()\n",
    "\n",
    "print(\"✓ Saved: feature_distributions.png\")"
   ]
  },
  {
   "cell_type": "markdown",
   "metadata": {},
   "source": [
    "## Example Temporal Traces"
   ]
  },
  {
   "cell_type": "code",
   "execution_count": null,
   "metadata": {},
   "outputs": [],
   "source": [
    "# Find example fall and non-fall windows\n",
    "fall_idx = np.where(y == 1)[0][0] if np.any(y == 1) else 0\n",
    "non_fall_idx = np.where(y == 0)[0][0] if np.any(y == 0) else 0\n",
    "\n",
    "# Plot temporal traces\n",
    "fig, axes = plt.subplots(2, 3, figsize=(15, 10))\n",
    "axes = axes.flatten()\n",
    "\n",
    "frames = np.arange(60)\n",
    "\n",
    "for i, (ax, feature_name) in enumerate(zip(axes, feature_names)):\n",
    "    # Plot fall example\n",
    "    if np.any(y == 1):\n",
    "        ax.plot(frames, X[fall_idx, :, i], label='Fall Example', \n",
    "                color='#e74c3c', linewidth=2, alpha=0.8)\n",
    "    \n",
    "    # Plot non-fall example\n",
    "    if np.any(y == 0):\n",
    "        ax.plot(frames, X[non_fall_idx, :, i], label='Non-Fall Example', \n",
    "                color='#2ecc71', linewidth=2, alpha=0.8)\n",
    "    \n",
    "    ax.set_xlabel('Frame', fontsize=11)\n",
    "    ax.set_ylabel(feature_name, fontsize=11)\n",
    "    ax.set_title(f'{feature_name} Over Time', fontsize=12, fontweight='bold')\n",
    "    ax.legend()\n",
    "    ax.grid(alpha=0.3)\n",
    "    ax.set_xlim(0, 59)\n",
    "\n",
    "plt.tight_layout()\n",
    "plt.savefig('../docs/wiki_assets/phase1_features/temporal_traces.png', dpi=150, bbox_inches='tight')\n",
    "plt.show()\n",
    "\n",
    "print(\"✓ Saved: temporal_traces.png\")"
   ]
  },
  {
   "cell_type": "markdown",
   "metadata": {},
   "source": [
    "## Feature Statistics"
   ]
  },
  {
   "cell_type": "code",
   "execution_count": null,
   "metadata": {},
   "outputs": [],
   "source": [
    "# Compute statistics\n",
    "print(\"Feature Statistics (Mean ± Std)\")\n",
    "print(\"=\"*70)\n",
    "print(f\"{'Feature':<20} {'Fall':<25} {'Non-Fall':<25}\")\n",
    "print(\"=\"*70)\n",
    "\n",
    "for i, feature_name in enumerate(feature_names):\n",
    "    fall_mean = np.nanmean(X_fall[:, i])\n",
    "    fall_std = np.nanstd(X_fall[:, i])\n",
    "    non_fall_mean = np.nanmean(X_non_fall[:, i])\n",
    "    non_fall_std = np.nanstd(X_non_fall[:, i])\n",
    "    \n",
    "    print(f\"{feature_name:<20} {fall_mean:.3f} ± {fall_std:.3f}        {non_fall_mean:.3f} ± {non_fall_std:.3f}\")\n",
    "\n",
    "print(\"=\"*70)"
   ]
  },
  {
   "cell_type": "markdown",
   "metadata": {},
   "source": [
    "## Window Length Sanity Check"
   ]
  },
  {
   "cell_type": "code",
   "execution_count": null,
   "metadata": {},
   "outputs": [],
   "source": [
    "# Verify all windows have correct length\n",
    "window_lengths = [X.shape[1] for _ in range(len(X))]\n",
    "\n",
    "print(f\"Expected window length: 60 frames\")\n",
    "print(f\"Actual window shape: {X.shape[1]} frames\")\n",
    "print(f\"All windows have correct length: {X.shape[1] == 60}\")\n",
    "\n",
    "# Check for NaN values\n",
    "nan_ratio = np.sum(np.isnan(X)) / X.size\n",
    "print(f\"\\nNaN ratio in features: {nan_ratio:.3f} ({100*nan_ratio:.1f}%)\")\n",
    "\n",
    "# Check missing ratios\n",
    "missing_ratios = data['missing_ratios']\n",
    "print(f\"\\nMissing ratio statistics:\")\n",
    "print(f\"  Mean: {np.mean(missing_ratios):.3f}\")\n",
    "print(f\"  Max: {np.max(missing_ratios):.3f}\")\n",
    "print(f\"  Min: {np.min(missing_ratios):.3f}\")"
   ]
  },
  {
   "cell_type": "markdown",
   "metadata": {},
   "source": [
    "## Summary\n",
    "\n",
    "This notebook demonstrates:\n",
    "1. ✅ Class balance visualization\n",
    "2. ✅ Feature distributions by class\n",
    "3. ✅ Temporal traces for fall vs non-fall examples\n",
    "4. ✅ Feature statistics\n",
    "5. ✅ Data quality checks\n",
    "\n",
    "All plots saved to: `docs/wiki_assets/phase1_features/`"
   ]
  }
 ],
 "metadata": {
  "kernelspec": {
   "display_name": "Python 3",
   "language": "python",
   "name": "python3"
  },
  "language_info": {
   "codemirror_mode": {
    "name": "ipython",
    "version": 3
   },
   "file_extension": ".py",
   "mimetype": "text/x-python",
   "name": "python",
   "nbconvert_exporter": "python",
   "pygments_lexer": "ipython3",
   "version": "3.11.0"
  }
 },
 "nbformat": 4,
 "nbformat_minor": 4
}

